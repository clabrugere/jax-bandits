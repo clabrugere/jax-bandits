{
 "cells": [
  {
   "cell_type": "markdown",
   "metadata": {},
   "source": [
    "# imports"
   ]
  },
  {
   "cell_type": "code",
   "execution_count": 1,
   "metadata": {},
   "outputs": [],
   "source": [
    "%load_ext autoreload\n",
    "%autoreload 2"
   ]
  },
  {
   "cell_type": "code",
   "execution_count": 2,
   "metadata": {},
   "outputs": [],
   "source": [
    "import sys\n",
    "\n",
    "sys.path.append(\"..\")\n",
    "\n",
    "import jax\n",
    "import jax.numpy as jnp\n",
    "import matplotlib.pyplot as plt\n",
    "from jax import jit"
   ]
  },
  {
   "cell_type": "markdown",
   "metadata": {},
   "source": [
    "# Classical multi-armed bandits\n",
    "\n",
    "Multi-bandits are decision-making systems that need to chose an action $a \\in \\mathcal{A}$, collect a reward $r(a)$ for this action. The process continues for a certain number of rounds $T$ and the goal of the agent is to maximize the total reward. In this setting, we have three assumptions on the problem:\n",
    "- the agent observes rewards only for the action it chose but not for all actions in the action space.\n",
    "- the rewards for each actions $a \\in \\mathcal{A}$ are i.d.d and sampled from unknown distributions $\\{ \\mathcal{D}_a \\}_{a \\in \\mathcal{A}}$.\n",
    "- rewards are bounded.\n",
    "\n",
    "A simple example of such problem is given by binary rewards sampled from Bernoulli distributions, and so where the reward can either be 1 (sucess) or 0 (failure). This is what we will look at in the rest of the notebook.\n",
    "\n",
    "For this Bernoulli rewards problem, we will be implementing 3 multi-armed bandits algorithms usually used in the industry:\n",
    "- $\\epsilon$-greedy\n",
    "- UCB\n",
    "- Thomson sampling\n",
    "\n",
    "## $\\epsilon$-greedy\n",
    "\n"
   ]
  },
  {
   "cell_type": "code",
   "execution_count": null,
   "metadata": {},
   "outputs": [],
   "source": []
  }
 ],
 "metadata": {
  "kernelspec": {
   "display_name": ".venv",
   "language": "python",
   "name": "python3"
  },
  "language_info": {
   "codemirror_mode": {
    "name": "ipython",
    "version": 3
   },
   "file_extension": ".py",
   "mimetype": "text/x-python",
   "name": "python",
   "nbconvert_exporter": "python",
   "pygments_lexer": "ipython3",
   "version": "3.12.5"
  }
 },
 "nbformat": 4,
 "nbformat_minor": 2
}
