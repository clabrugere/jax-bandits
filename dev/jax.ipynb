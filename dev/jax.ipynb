{
 "cells": [
  {
   "cell_type": "code",
   "execution_count": 1,
   "metadata": {},
   "outputs": [],
   "source": [
    "%load_ext autoreload\n",
    "%autoreload 2"
   ]
  },
  {
   "cell_type": "code",
   "execution_count": 45,
   "metadata": {},
   "outputs": [],
   "source": [
    "import sys\n",
    "\n",
    "sys.path.append(\"..\")\n",
    "\n",
    "from typing import NamedTuple\n",
    "\n",
    "import jax\n",
    "import jax.numpy as jnp\n",
    "import matplotlib.pyplot as plt\n",
    "from jax import Array, jit"
   ]
  },
  {
   "cell_type": "markdown",
   "metadata": {},
   "source": [
    "# OOP style"
   ]
  },
  {
   "cell_type": "code",
   "execution_count": 12,
   "metadata": {},
   "outputs": [],
   "source": [
    "class Bandit:\n",
    "    def select_action(key: Array, state: NamedTuple) -> Array: ...\n",
    "\n",
    "    def update(state: NamedTuple, action: int, reward: float) -> NamedTuple: ...\n",
    "\n",
    "\n",
    "class EpsilonGreedyState(NamedTuple):\n",
    "    epsilon: float\n",
    "    values: Array\n",
    "    counts: Array\n",
    "\n",
    "\n",
    "class EpsilonGreedy(Bandit):\n",
    "    @staticmethod\n",
    "    @jit\n",
    "    def select_action(key: Array, state: EpsilonGreedyState) -> Array:\n",
    "        key, subkey = jax.random.split(key)\n",
    "        num_actions = state.values.shape[0]\n",
    "\n",
    "        def explore():\n",
    "            return jax.random.randint(subkey, shape=(), minval=0, maxval=num_actions)\n",
    "\n",
    "        def exploit():\n",
    "            return jnp.argmax(state.values)\n",
    "\n",
    "        return jax.lax.cond(\n",
    "            jax.random.uniform(key) < state.epsilon,\n",
    "            explore,\n",
    "            exploit,\n",
    "        )\n",
    "\n",
    "    @staticmethod\n",
    "    @jit\n",
    "    def update(state: EpsilonGreedyState, action: int, reward: float) -> EpsilonGreedyState:\n",
    "        counts, values = state.counts, state.values\n",
    "\n",
    "        counts_update = counts[action] + 1\n",
    "        values_update = values[action] + (reward - values[action]) / counts_update\n",
    "\n",
    "        counts = counts.at[action].set(counts_update)\n",
    "        values = values.at[action].set(values_update)\n",
    "\n",
    "        return EpsilonGreedyState(state.epsilon, values, counts)\n",
    "\n",
    "\n",
    "class ThomsonSamplingState(NamedTuple):\n",
    "    alpha: Array\n",
    "    beta: Array\n",
    "\n",
    "\n",
    "class ThomsonSampling(Bandit):\n",
    "    @staticmethod\n",
    "    @jit\n",
    "    def select_action(key: Array, state: ThomsonSamplingState) -> Array:\n",
    "        expected_rewards = jax.random.beta(key, state.alpha, state.beta)\n",
    "\n",
    "        return jnp.argmax(expected_rewards)\n",
    "\n",
    "    @staticmethod\n",
    "    @jit\n",
    "    def update(state: ThomsonSamplingState, action: int, reward: float) -> ThomsonSamplingState:\n",
    "        alpha, beta = state.alpha, state.beta\n",
    "\n",
    "        alpha_update = alpha[action] + reward\n",
    "        beta_update = beta[action] + (1.0 - reward)\n",
    "\n",
    "        alpha = alpha.at[action].set(alpha_update)\n",
    "        beta = beta.at[action].set(beta_update)\n",
    "\n",
    "        return ThomsonSamplingState(alpha, beta)"
   ]
  },
  {
   "cell_type": "code",
   "execution_count": 13,
   "metadata": {},
   "outputs": [],
   "source": [
    "class Environment:\n",
    "    def __init__(self, true_rewards: Array) -> None:\n",
    "        self.true_rewards = true_rewards\n",
    "\n",
    "    def run(self, key: Array, bandit: Bandit, init_state: NamedTuple, num_steps: int) -> tuple[NamedTuple, Array]:\n",
    "        @jit\n",
    "        def step(carry: tuple[NamedTuple, Array], key: Array) -> tuple[NamedTuple, Array]:\n",
    "            bandit_state, true_rewards = carry\n",
    "            key, subkey = jax.random.split(key)\n",
    "\n",
    "            action = bandit.select_action(key, bandit_state)\n",
    "\n",
    "            reward = jax.random.bernoulli(subkey, true_rewards[action]).astype(jnp.float32)\n",
    "\n",
    "            bandit_state = bandit.update(bandit_state, action, reward)\n",
    "\n",
    "            return (bandit_state, true_rewards), reward\n",
    "\n",
    "        keys = jax.random.split(key, num_steps)\n",
    "        (state, _), rewards = jax.lax.scan(step, (init_state, self.true_rewards), keys)\n",
    "\n",
    "        return state, rewards"
   ]
  },
  {
   "cell_type": "code",
   "execution_count": 14,
   "metadata": {},
   "outputs": [],
   "source": [
    "key = jax.random.key(1234)\n",
    "num_actions = 10\n",
    "\n",
    "key, subkey = jax.random.split(key)\n",
    "\n",
    "true_probas = jax.random.uniform(subkey, num_actions)\n",
    "env = Environment(true_probas)"
   ]
  },
  {
   "cell_type": "code",
   "execution_count": 22,
   "metadata": {},
   "outputs": [],
   "source": [
    "greedy = EpsilonGreedy()\n",
    "greedy_init_state = EpsilonGreedyState(\n",
    "    epsilon=0.1,\n",
    "    values=jnp.zeros(num_actions),\n",
    "    counts=jnp.zeros(num_actions),\n",
    ")\n",
    "\n",
    "key, subkey = jax.random.split(key)"
   ]
  },
  {
   "cell_type": "code",
   "execution_count": 23,
   "metadata": {},
   "outputs": [
    {
     "name": "stdout",
     "output_type": "stream",
     "text": [
      "159 ms ± 8.49 ms per loop (mean ± std. dev. of 7 runs, 1 loop each)\n"
     ]
    }
   ],
   "source": [
    "%%timeit\n",
    "greedy_state, greedy_rewards = env.run(key, greedy, greedy_init_state, num_steps=10_000)"
   ]
  },
  {
   "cell_type": "code",
   "execution_count": 159,
   "metadata": {},
   "outputs": [
    {
     "name": "stdout",
     "output_type": "stream",
     "text": [
      "0.9873\n"
     ]
    }
   ],
   "source": [
    "ts = ThomsonSampling()\n",
    "ts_init_state = ThomsonSamplingState(\n",
    "    alpha=jnp.ones(num_actions),\n",
    "    beta=jnp.ones(num_actions),\n",
    ")\n",
    "\n",
    "key, subkey = jax.random.split(key)\n",
    "ts_state, ts_rewards = env.run(key, ts, ts_init_state, num_steps=10_000)\n",
    "\n",
    "print(ts_rewards.mean())"
   ]
  },
  {
   "cell_type": "code",
   "execution_count": null,
   "metadata": {},
   "outputs": [],
   "source": []
  },
  {
   "cell_type": "markdown",
   "metadata": {},
   "source": [
    "# Functional"
   ]
  },
  {
   "cell_type": "code",
   "execution_count": 169,
   "metadata": {},
   "outputs": [],
   "source": [
    "from src.bandits import environment\n",
    "from src.bandits.policies import epsilon_greedy, thomson_sampling, ucb\n",
    "\n",
    "key = jax.random.key(1234)\n",
    "\n",
    "num_actions = 10\n",
    "num_steps = 10_000\n",
    "num_iter = 100\n",
    "\n",
    "key, subkey = jax.random.split(key)\n",
    "true_rewards = jax.random.uniform(subkey, num_actions)\n",
    "\n",
    "greedy_init_state = epsilon_greedy.EpsilonGreedyState(\n",
    "    epsilon=0.1,\n",
    "    values=jnp.zeros(num_actions),\n",
    "    counts=jnp.zeros(num_actions),\n",
    ")\n",
    "\n",
    "ucb_init_state = ucb.UCBState(\n",
    "    c=1.0,\n",
    "    steps=0.0,\n",
    "    values=jnp.zeros(num_actions),\n",
    "    counts=jnp.zeros(num_actions),\n",
    ")\n",
    "\n",
    "ts_init_state = thomson_sampling.ThomsonSamplingState(\n",
    "    alphas=jnp.ones(num_actions),\n",
    "    betas=jnp.ones(num_actions),\n",
    ")\n",
    "\n",
    "key, key_greedy, key_ucb, key_ts = jax.random.split(key, 4)\n",
    "\n",
    "keys_greedy = jax.random.split(key_greedy, num_steps * num_iter).reshape(num_iter, num_steps)\n",
    "greedy_state, greedy_rewards = environment.simulate_multiple(\n",
    "    keys_greedy,\n",
    "    true_rewards,\n",
    "    epsilon_greedy.select_action,\n",
    "    epsilon_greedy.update_state,\n",
    "    greedy_init_state,\n",
    ")\n",
    "\n",
    "keys_ucb = jax.random.split(key_ucb, num_steps * num_iter).reshape(num_iter, num_steps)\n",
    "ucb_state, ucb_rewards = environment.simulate_multiple(\n",
    "    keys_greedy,\n",
    "    true_rewards,\n",
    "    ucb.select_action,\n",
    "    ucb.update_state,\n",
    "    ucb_init_state,\n",
    ")\n",
    "\n",
    "keys_ts = jax.random.split(key_ts, num_steps * num_iter).reshape(num_iter, num_steps)\n",
    "ts_state, ts_rewards = environment.simulate_multiple(\n",
    "    keys_ts,\n",
    "    true_rewards,\n",
    "    thomson_sampling.select_action,\n",
    "    thomson_sampling.update_state,\n",
    "    ts_init_state,\n",
    ")"
   ]
  },
  {
   "cell_type": "code",
   "execution_count": 154,
   "metadata": {},
   "outputs": [
    {
     "data": {
      "image/png": "[encoded data removed]",
      "text/plain": [
       "<Figure size 640x480 with 1 Axes>"
      ]
     },
     "metadata": {},
     "output_type": "display_data"
    }
   ],
   "source": [
    "_, ax = plt.subplots()\n",
    "\n",
    "step_inds = jnp.arange(1, num_steps + 1)\n",
    "\n",
    "ax.plot(jnp.cumsum(jnp.mean(greedy_rewards, axis=0)) / step_inds, label=\"Epsilon greedy\")\n",
    "ax.plot(jnp.cumsum(jnp.mean(ucb_rewards, axis=0)) / step_inds, label=\"UCB\")\n",
    "ax.plot(jnp.cumsum(jnp.mean(ts_rewards, axis=0)) / step_inds, label=\"Thomson sampling\")\n",
    "ax.set_xlabel(\"step\")\n",
    "ax.set_ylabel(\"average reward\")\n",
    "ax.set_ylim(top=1.0)\n",
    "plt.legend()\n",
    "plt.tight_layout()"
   ]
  },
  {
   "cell_type": "code",
   "execution_count": 168,
   "metadata": {},
   "outputs": [],
   "source": [
    "key = jax.random.key(1234)\n",
    "key, subkey = jax.random.split(key)"
   ]
  },
  {
   "cell_type": "code",
   "execution_count": null,
   "metadata": {},
   "outputs": [],
   "source": []
  },
  {
   "cell_type": "code",
   "execution_count": null,
   "metadata": {},
   "outputs": [],
   "source": []
  }
 ],
 "metadata": {
  "kernelspec": {
   "display_name": ".venv",
   "language": "python",
   "name": "python3"
  },
  "language_info": {
   "codemirror_mode": {
    "name": "ipython",
    "version": 3
   },
   "file_extension": ".py",
   "mimetype": "text/x-python",
   "name": "python",
   "nbconvert_exporter": "python",
   "pygments_lexer": "ipython3",
   "version": "3.12.5"
  }
 },
 "nbformat": 4,
 "nbformat_minor": 2
}
